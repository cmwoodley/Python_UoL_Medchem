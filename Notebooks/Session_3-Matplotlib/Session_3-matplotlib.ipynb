{
 "cells": [
  {
   "cell_type": "markdown",
   "metadata": {},
   "source": [
    "## Session 3 - Matplotlib and figure plotting in Python\n",
    "\n",
    "Matplotlib is the most widely used plotting library in Python. Many plot types are implemented in Matplotlib, some very useful, some more niche. \n",
    "\n",
    "Compared to excel, the main advantage of Matplotlib is the ability to have ultimate control over your graphs and figures.\n",
    "\n",
    "The main disadvantage is the difficulty of getting Matplotlib to do **exactly** what you want - excel is definitely faster.\n"
   ]
  },
  {
   "cell_type": "markdown",
   "metadata": {},
   "source": [
    "# Example 1 - basic matplotlib usage.\n",
    "\n",
    "All plotting functions in Matplotlib are contained within the Pyplot module imported via: ```import matplotlib.pyplot as plt```\n",
    "\n",
    "All of the functions are accessed via plt - similar to how we accessed numpy functions using np.*something* in the previous session.\n",
    "\n",
    "The below function takes some data (x axis and y axis) and produces a lineplot using ```plt.plot```. Without any other aruments, matplotlib uses default settings."
   ]
  },
  {
   "cell_type": "code",
   "execution_count": null,
   "metadata": {},
   "outputs": [],
   "source": [
    "# Import the pyplot module\n",
    "import matplotlib.pyplot as plt \n",
    "\n",
    "# Generate data as lists\n",
    "x = [0, 1, 2, 3, 4, 5]\n",
    "y = [0, 1, 4, 9, 16, 25]\n",
    "\n",
    "# plt the graph x, y\n",
    "plt.plot(x, y)\n",
    "\n",
    "# Show the graph\n",
    "plt.show()"
   ]
  },
  {
   "cell_type": "markdown",
   "metadata": {},
   "source": [
    "We often want to plot multiple things on the same axes. The simplest way to do this using matplotlib is by producing multiple graphs using plt.*something*\n",
    "\n",
    "Note that the second plot has an orange line - this is the default behaviour"
   ]
  },
  {
   "cell_type": "code",
   "execution_count": null,
   "metadata": {},
   "outputs": [],
   "source": [
    "# Define the lists\n",
    "x = [0, 1, 2, 3, 4, 5]\n",
    "y1 = [0, 1, 4, 9, 16, 25]\n",
    "y2 = [0, 1, 8, 27, 64, 125]\n",
    "\n",
    "# Plot the first line\n",
    "plt.plot(x, y1)\n",
    "\n",
    "# Then the second.\n",
    "plt.plot(x, y2)\n",
    "\n",
    "# And display the graph\n",
    "plt.show()"
   ]
  },
  {
   "cell_type": "markdown",
   "metadata": {},
   "source": [
    "scatterplots are another commonly used graph type in matplotlib. See below another example where we have a lineplot and a scatterplot on the same axis.\n",
    "\n",
    "Examples of when we may want to do this is if we fit a function to some data (e.g. sigmoidal function to dose-response curves) or a moving average to some noisy data (e.g. covid deaths by date)"
   ]
  },
  {
   "cell_type": "code",
   "execution_count": null,
   "metadata": {},
   "outputs": [],
   "source": [
    "# Define the lists\n",
    "x = [0, 1, 2, 3, 4, 5]\n",
    "observed_data = [ 0.29052297,  2.67672771,  4.84741051,  9.70210351, 18.68549226, 23.26443173]\n",
    "fit_function = [0, 1, 4, 9, 16, 25]\n",
    "\n",
    "# Plot the fit function as a lineplot\n",
    "plt.plot(x, fit_function)\n",
    "\n",
    "# Then the second as a scatterplot\n",
    "plt.scatter(x, observed_data)\n",
    "\n",
    "# And display the graph\n",
    "plt.show()"
   ]
  },
  {
   "cell_type": "markdown",
   "metadata": {},
   "source": [
    "### Exercise 1 - plotting line and scatter graphs\n",
    "\n",
    "Using the data given below, produce lineplot and scatterplot graphs"
   ]
  },
  {
   "cell_type": "code",
   "execution_count": null,
   "metadata": {},
   "outputs": [],
   "source": [
    "# Data for scatter plots\n",
    "\n",
    "x_scatter = [1, 2, 3, 4, 5, 6]\n",
    "y_scatter = [10, 15, 13, 20, 22, 24]\n",
    "\n",
    "# Write code for producing scatter plots below\n",
    "\n"
   ]
  },
  {
   "cell_type": "code",
   "execution_count": null,
   "metadata": {},
   "outputs": [],
   "source": [
    "# Data for line plots\n",
    "\n",
    "x_line = [0, 1, 2, 3, 4, 5]\n",
    "y_line = [0, 1, 4, 9, 16, 25]\n",
    "\n",
    "# Write code for producing line plots below\n"
   ]
  },
  {
   "cell_type": "markdown",
   "metadata": {},
   "source": [
    "### Example 2 - customising graphs\n",
    "\n",
    "The default matplotlib plots are very basic, we need to add chart elements and modify chart attributes to clearly describe what the plot shows.\n",
    "\n",
    "Commonly modified chart Elements:\n",
    "- ylabel\n",
    "- xlabel\n",
    "- title\n",
    "- legend\n",
    "\n",
    "See examples below modifying our multiple line graph"
   ]
  },
  {
   "cell_type": "code",
   "execution_count": null,
   "metadata": {},
   "outputs": [],
   "source": [
    "# Define the lists\n",
    "x = [0, 1, 2, 3, 4, 5]\n",
    "y1 = [0, 1, 4, 9, 16, 25]\n",
    "y2 = [0, 1, 8, 27, 64, 125]\n",
    "\n",
    "# Plot the first line. Note that we add the argument \"label\" which tells matplotlib what data this drawing object is showing.\n",
    "plt.plot(x, y1, label = \"y = x^2\")\n",
    "\n",
    "# Then the second with a different label argument\n",
    "plt.plot(x, y2, label = \"y = x^3\")\n",
    "\n",
    "# Here we can add chart elements. Labels and titles need a string argument.\n",
    "plt.xlabel(\"Input Values\")\n",
    "plt.ylabel(\"Output Values\")\n",
    "plt.title(\"Result of X raised to the 2nd or 3rd Power\")\n",
    "\n",
    "# plt.legend collects all labels used to generate the graph and produce a figure legend\n",
    "plt.legend()\n",
    "\n",
    "# And display the graph\n",
    "plt.show()"
   ]
  },
  {
   "cell_type": "markdown",
   "metadata": {},
   "source": [
    "We can also modify the way our charts look. This is different for each graph type and we will cover more in turn.\n",
    "\n",
    "Options for lineplot:\n",
    "color --> The color of the line\n",
    "Linestyle --> The way the line looks, e.g. solid, dashed\n",
    "linewidth --> The width of the line"
   ]
  },
  {
   "cell_type": "code",
   "execution_count": null,
   "metadata": {},
   "outputs": [],
   "source": [
    "# Define the lists\n",
    "x = [0, 1, 2, 3, 4, 5]\n",
    "y1 = [0, 1, 4, 9, 16, 25]\n",
    "y2 = [0, 1, 8, 27, 64, 125]\n",
    "\n",
    "# Plot the first line. Note that we set the color of this line to red.\n",
    "plt.plot(x, y1, label = \"y = x^2\", color=\"red\")\n",
    "\n",
    "# Then the second with a different color. We also set this linestyle to dashed \"--\"\n",
    "plt.plot(x, y2, label = \"y = x^3\", color=\"purple\", linestyle=\"--\")\n",
    "\n",
    "# Here we can add chart elements. Labels and titles need a string argument.\n",
    "plt.xlabel(\"Input Values\")\n",
    "plt.ylabel(\"Output Values\")\n",
    "plt.title(\"Result of X raised to the 2nd or 3rd Power\")\n",
    "\n",
    "# plt.legend collects all labels used to generate the graph and produce a figure legend\n",
    "plt.legend()\n",
    "\n",
    "# And display the graph\n",
    "plt.show()"
   ]
  },
  {
   "cell_type": "markdown",
   "metadata": {},
   "source": [
    "### Exercise 2 - customising plots\n",
    "\n",
    "Add chart elements to the plots below."
   ]
  },
  {
   "cell_type": "code",
   "execution_count": null,
   "metadata": {},
   "outputs": [],
   "source": [
    "# Month of the year in indices - note that these numbers are completely arbitrary and do not necessarily have to fit python indexing\n",
    "months = [1,2,3,4,5,6,7,8,9,10,11,12]\n",
    "\n",
    "# Sales in GBP\n",
    "sales_2021 = [543, 324, 234, 366, 789, 1006, 1089, 1500, 760, 520, 690, 800]\n",
    "sales_2022 = [450, 380, 340, 356, 560, 689, 897, 780, 600, 540, 700, 810]\n",
    "\n",
    "# Produce lineplots of sales in each years - add label  information for each year\n",
    "\n",
    "\n",
    "# Add the legend object\n",
    "\n",
    "# Show the graph\n",
    "plt.show()"
   ]
  },
  {
   "cell_type": "markdown",
   "metadata": {},
   "source": [
    "### Exercise 3 - add additional elements to the graph"
   ]
  },
  {
   "cell_type": "code",
   "execution_count": null,
   "metadata": {},
   "outputs": [],
   "source": [
    "import numpy as np\n",
    "\n",
    "# Use numpy to calculate the average sales\n",
    "\n",
    "# Add the lineplots from the previous exercise\n",
    "# - Additionally set the two lines with specific colors\n",
    "\n",
    "\n",
    "# Add an additional lineplot for the average monthly value as a dotted line\n",
    "\n",
    "# Add a legend, X-label and Y-label\n",
    "\n",
    "# Show the new graph\n",
    "plt.show()"
   ]
  },
  {
   "cell_type": "markdown",
   "metadata": {},
   "source": [
    "### Example 3 - Multiple subplots\n",
    "\n",
    "Subplots in **matplotlib** really useful to compare multiple datasets or show different aspects of data side by side. Instead of creating separate figures, you can pack everything into one neatly organized view, which makes it easier to spot trends and tell a cohesive story with your visualizations.\n",
    "\n",
    "The first way to do this is to use the plt.subplots() function. This initialises a figure object and an array of subplot objects.\n",
    "\n",
    "The second way to do this is to initialise a figure using plt.figure(). This produces a figure object which allows use of a method to ada subplot to a figure."
   ]
  },
  {
   "cell_type": "code",
   "execution_count": null,
   "metadata": {},
   "outputs": [],
   "source": [
    "import matplotlib.pyplot as plt\n",
    "import numpy as np\n",
    "\n",
    "# Produce some synthetic data for plotting\n",
    "x = np.linspace(0, 2 * np.pi, 100)\n",
    "\n",
    "# Evaluate y-values for each function\n",
    "y_sin = np.sin(x)\n",
    "y_cos = np.cos(x)\n",
    "y_tan = np.tan(x)\n",
    "y_quad = x**2"
   ]
  },
  {
   "cell_type": "markdown",
   "metadata": {},
   "source": [
    "The below cell shows what's happening under the hood of the subplots function"
   ]
  },
  {
   "cell_type": "code",
   "execution_count": null,
   "metadata": {},
   "outputs": [],
   "source": [
    "# Creating subplots\n",
    "fig, axs = plt.subplots(nrows = 2, ncols= 2, figsize=(10, 8))\n",
    "\n",
    "print(\"fig object type:\",type(fig))\n",
    "print(\"axs object type:\", type(axs))\n",
    "# note that the shape of the array is determined by the nrows and ncols values\n",
    "print(\"axs object shape:\", axs.shape)\n",
    "print(\"axs element type:\", type(axs[0,0]))\n",
    "\n",
    "# Note that a blank figure is displayed in the notebook.\n",
    "\n",
    "plt.show()"
   ]
  },
  {
   "cell_type": "markdown",
   "metadata": {},
   "source": [
    "Now we can plot our multiple plot figure.\n",
    "\n",
    "Note that each subplot object of the axs array are accessed identically to a numpy array. \n",
    "\n",
    "Each subplot has the same plotting methods as the pyplot package (plt) with some differences. \n",
    "\n",
    "Note that instead of calling plt.xlabel directly to set the xlabel, we use ```axs[0,0].set_xlabel(\"x\")``` to set the xlabel attribute."
   ]
  },
  {
   "cell_type": "code",
   "execution_count": null,
   "metadata": {},
   "outputs": [],
   "source": [
    "# Creating subplots\n",
    "fig, axs = plt.subplots(nrows = 2, ncols = 2, layout=\"tight\") # layout keywords prevents overlapping subplots.\n",
    "\n",
    "# First subplot\n",
    "axs[0, 0].plot(x, y_sin)\n",
    "axs[0, 0].set_title('Sine Function')\n",
    "axs[0, 0].set_xlabel('x')\n",
    "axs[0, 0].set_ylabel('sin(x)')\n",
    "\n",
    "# Second subplot\n",
    "axs[0, 1].plot(x, y_cos)\n",
    "axs[0, 1].set_title('Cosine Function')\n",
    "axs[0, 1].set_xlabel('x')\n",
    "axs[0, 1].set_ylabel('cos(x)')\n",
    "\n",
    "# Third subplot\n",
    "axs[1, 0].plot(x, y_tan)\n",
    "axs[1, 0].set_title('Tangent Function')\n",
    "axs[1, 0].set_xlabel('x')\n",
    "axs[1, 0].set_ylabel('tan(x)')\n",
    "axs[1, 0].set_ylim(-10, 10)  # Limit y to avoid extreme values\n",
    "\n",
    "# Fourth subplot\n",
    "axs[1, 1].plot(x, y_quad)\n",
    "axs[1, 1].set_title('Quadratic Function')\n",
    "axs[1, 1].set_xlabel('x')\n",
    "axs[1, 1].set_ylabel('x^2')\n",
    "\n",
    "# Display the plots\n",
    "plt.show()"
   ]
  },
  {
   "cell_type": "markdown",
   "metadata": {},
   "source": [
    "The same result can be achieved using the ```fig.add_subplot``` method\n",
    "\n",
    "The grid of subplots is defined when you add the subplot. For example, if we want a 2x2 grid and want to add a subplot in the first quadrant of the grid, we would use:\n",
    "```fig.add_subplot(2,2,1)``` meaning \"assume a 2 row x 2 column grid and give me the first quardant\" - **matplotlib indexes from 1: to me this feels like a weird choice, but you just have to live with it**"
   ]
  },
  {
   "cell_type": "code",
   "execution_count": null,
   "metadata": {},
   "outputs": [],
   "source": [
    "# First define the figure\n",
    "fig = plt.figure(layout=\"tight\")\n",
    "\n",
    "# Add a subplot to the figure\n",
    "ax = fig.add_subplot(2,2,1) # 2x2 grid, 1st element of the grid\n",
    "ax.plot(x, y_sin) # this time a scatterplot\n",
    "ax.set_ylabel(\"sin(x)\")\n",
    "ax.set_xlabel(\"x\")\n",
    "\n",
    "# Add another subplot to the figure\n",
    "ax = fig.add_subplot(2,2,2) # 2x2 grid, 2nd element of the grid\n",
    "# The ax variable now refers to the second element\n",
    "ax.plot(x, y_cos) # this time a scatterplot\n",
    "ax.set_ylabel(\"cos(x)\")\n",
    "ax.set_xlabel(\"x\")\n",
    "\n",
    "# Add another subplot to the figure\n",
    "ax = fig.add_subplot(2,2,3) # 2x2 grid, 3rd element of the grid\n",
    "ax.plot(x, y_tan) # this time a scatterplot\n",
    "ax.set_ylabel(\"tan(x)\")\n",
    "ax.set_xlabel(\"x\")\n",
    "ax.set_ylim(-10, 10)  # Limit y to avoid extreme values\n",
    "\n",
    "\n",
    "# Add another subplot to the figure\n",
    "ax = fig.add_subplot(2,2,4) # 2x2 grid, 4th element of the grid\n",
    "ax.plot(x, y_quad) # this time a scatterplot\n",
    "ax.set_ylabel(\"x^2\")\n",
    "ax.set_xlabel(\"x\")\n",
    "\n",
    "# Display the plots\n",
    "plt.show()"
   ]
  },
  {
   "cell_type": "code",
   "execution_count": null,
   "metadata": {},
   "outputs": [],
   "source": [
    "# We can also make weird arrangements of plots like this:\n",
    "\n",
    "fig = plt.figure(layout=\"tight\")\n",
    "\n",
    "ax = fig.add_subplot(2,2,1)\n",
    "ax.hist(y_sin, bins=16) # This time we're using a histogram\n",
    "ax.set_title(\"Histogram of Sin(x)\")\n",
    "\n",
    "\n",
    "ax = fig.add_subplot(2,1,2)\n",
    "ax.plot(x, y_sin)\n",
    "ax.set_title(\"Plot of Sin(x)\")\n",
    "ax.set_ylabel(\"sin(x)\")\n",
    "ax.set_xlabel(\"x\")\n",
    "\n",
    "plt.show()"
   ]
  },
  {
   "cell_type": "markdown",
   "metadata": {},
   "source": [
    "### Exercise 4 - Plotting IC50 Data for multiple drugs\n",
    "\n",
    "In the data folder, I have included some fake dose response data for three drugs: erlotinib, gefitinib and lenvatinib\n",
    "\n",
    "Plot graphs following the prompts to show **scatterplots** of each replica point and a **lineplot** of the average value between each replica "
   ]
  },
  {
   "cell_type": "code",
   "execution_count": null,
   "metadata": {},
   "outputs": [],
   "source": [
    "import pandas as pd\n",
    "import numpy as np\n",
    "import matplotlib.pyplot as plt\n",
    "\n",
    "# Read in dataframes for each drug using pandas\n",
    "erlotinib_df = \n",
    "gefitinib_df = \n",
    "lenvatinib_df = \n",
    "\n",
    "# Initialise figure and axes\n",
    "# Note the way we set the figure size with the figsize argument\n",
    "fig, axes = plt.subplots(3,1, layout=\"constrained\", figsize=(8,6))\n",
    "\n",
    "# See below that we need to use a log scale on our X-axis\n",
    "for ax in axes:\n",
    "    ax.set_xscale('log')\n",
    "\n",
    "# Produce scatterplots for each drug in each axes. Hint: you can use a for loop to iterate through the columns of the dataframes\n",
    "for col in [\"Response (Replicate 1)\",\"Response (Replicate 2)\",\"Response (Replicate 3)\"]:\n",
    "\n",
    "# Add lineplots for the average values\n",
    "\n",
    "# Add legends, labels and titles to each graph\n"
   ]
  },
  {
   "cell_type": "markdown",
   "metadata": {},
   "source": [
    "### Exercise 5 - Hydrogen bond donor/acceptor data\n",
    "\n",
    "Load in the dataframe ```\"./data/lipinski_properties.csv\"``` and plot a 2x2 grid of histograms for each feature."
   ]
  },
  {
   "cell_type": "code",
   "execution_count": null,
   "metadata": {},
   "outputs": [],
   "source": [
    "import matplotlib.pyplot as plt\n",
    "import pandas as pd\n",
    "\n",
    "# Load the CSV data into a DataFrame\n",
    "data = pd.read_csv(\"./data/lipinski_properties.csv\")\n",
    "\n",
    "# Create a new figure\n",
    "fig = plt.figure(figsize=(10, 8))\n",
    "\n",
    "# Add subplot for Hydrogen Bond Donors\n",
    "ax1 = fig.add_subplot( # finish code here\n",
    "\n",
    "# Add subplot for Hydrogen Bond Acceptors\n",
    "\n",
    "# Add subplot for Molecular Weight\n",
    "\n",
    "# Add subplot for LogP\n",
    "\n",
    "# Adjust layout for better spacing\n",
    "plt.tight_layout()\n",
    "\n",
    "# Display the plot\n",
    "plt.show()"
   ]
  }
 ],
 "metadata": {
  "kernelspec": {
   "display_name": "BART2",
   "language": "python",
   "name": "python3"
  },
  "language_info": {
   "codemirror_mode": {
    "name": "ipython",
    "version": 3
   },
   "file_extension": ".py",
   "mimetype": "text/x-python",
   "name": "python",
   "nbconvert_exporter": "python",
   "pygments_lexer": "ipython3",
   "version": "3.8.13"
  }
 },
 "nbformat": 4,
 "nbformat_minor": 2
}
