{
 "cells": [
  {
   "cell_type": "markdown",
   "metadata": {},
   "source": [
    "## Session 1 - General Introduction to Python in Jupyter Notebooks\n",
    "\n",
    "This notebook will give examples of usage of basic python data types and inbuilt functions. These include:\n",
    "\n",
    "- Variables\n",
    "    - What are variables?\n",
    "    - Naming conventions\n",
    "\n",
    "- Data Types\n",
    "    - Integers\n",
    "    - Floats\n",
    "    - Strings\n",
    "    - Lists\n",
    "    - Tuples\n",
    "    - Dictionaries\n",
    "\n",
    "- Functions\n",
    "    - Mathematical functions\n",
    "    - Iterating through lists\n",
    "    - Searching in strings\n",
    "\n",
    "Not an exhaustative list of python synatx and functionality, but enough to do something useful with!"
   ]
  },
  {
   "cell_type": "markdown",
   "metadata": {},
   "source": [
    "### Note on variables\n",
    "\n",
    "Programming in general is using functions to do something to/with a variable.\n",
    "\n",
    "A variable represents a value stored in the computer's memory - enables storage, access and manipulation of data\n",
    "\n",
    "A variable is assigned using the assignment operator e.g. ```a = x```\n",
    "\n",
    "Some thought must be given to the choice of variable name:\n",
    "- Names should be descriptive\n",
    "- Avoid single letter names unless they are represent established concepts e.g. x, y, i/j (for counters)\n",
    "- Use of underscores improves readability e.g. first_name versus firstname\n",
    "- Avoid reserved keywords"
   ]
  },
  {
   "cell_type": "code",
   "execution_count": 8,
   "metadata": {},
   "outputs": [
    {
     "ename": "SyntaxError",
     "evalue": "invalid syntax (719229787.py, line 16)",
     "output_type": "error",
     "traceback": [
      "\u001b[1;36m  Input \u001b[1;32mIn [8]\u001b[1;36m\u001b[0m\n\u001b[1;33m    def = \"Python\"\u001b[0m\n\u001b[1;37m        ^\u001b[0m\n\u001b[1;31mSyntaxError\u001b[0m\u001b[1;31m:\u001b[0m invalid syntax\n"
     ]
    }
   ],
   "source": [
    "# Good variable names are descriptive, meaningful, and follow naming conventions.\n",
    "first_name = \"John\"\n",
    "age_of_person = 30\n",
    "total_sales = 1000.50\n",
    "is_valid_input = True\n",
    "list_of_numbers = [1, 2, 3, 4, 5]\n",
    "\n",
    "# Bad variable names are vague, ambiguous, or violate naming conventions.\n",
    "x = \"John\"          # Vague variable name\n",
    "a = 30              # Non-descriptive variable name\n",
    "sales = 1000.50     # Ambiguous variable name\n",
    "flag = True         # Generic variable name\n",
    "l = [1, 2, 3, 4, 5] # Single-letter variable name\n",
    "\n",
    "# Using a reserved keyword as a variable name will result in a syntax error.\n",
    "def = \"Python\" "
   ]
  },
  {
   "cell_type": "markdown",
   "metadata": {},
   "source": [
    "### Example 1 - Arithmetic functions and number data types"
   ]
  },
  {
   "cell_type": "markdown",
   "metadata": {},
   "source": [
    "Programming is a way of using variables and functions to do something useful\n",
    "\n",
    "Multiple data types exist for numbers but the most important are int and float. \n",
    "\n",
    "Python automatically assigns data types based on assignment of variables.\n",
    "\n",
    "Python is a very human interpretable programming language. Basic arithmetic functions are intuitive. "
   ]
  },
  {
   "cell_type": "code",
   "execution_count": 29,
   "metadata": {},
   "outputs": [
    {
     "name": "stdout",
     "output_type": "stream",
     "text": [
      "Num1 type:  <class 'int'>\n",
      "Num2 type:  <class 'int'>\n",
      "\n",
      "Addition: 15 - data type: <class 'int'>\n",
      "Subtraction: 5 - data type: <class 'int'>\n",
      "Multiplication: 50 - data type: <class 'int'>\n",
      "Division: 2.0 - data type: <class 'float'>\n",
      "\n",
      "Result of int(Division): 2 - data type: <class 'int'>\n"
     ]
    }
   ],
   "source": [
    "# Define integers\n",
    "num1 = 10\n",
    "num2 = 5\n",
    "\n",
    "print(\"Num1 type: \", type(num1))\n",
    "print(\"Num2 type: \", type(num2))\n",
    "print(\"\")\n",
    "\n",
    "# Arithmetic operations\n",
    "addition = num1 + num2\n",
    "subtraction = num1 - num2\n",
    "multiplication = num1 * num2\n",
    "division = num1 / num2\n",
    "power = num1 ** num2\n",
    "\n",
    "print(\"Addition: {} - data type: {}\".format(addition, type(addition)))\n",
    "print(\"Subtraction: {} - data type: {}\".format(subtraction, type(subtraction)))\n",
    "print(\"Multiplication: {} - data type: {}\".format(multiplication, type(multiplication)))\n",
    "print(\"Division: {} - data type: {}\".format(division, type(division)))\n",
    "print(\"Power: {} - data type: {}\".format(power, type(power)))\n",
    "print(\"\")\n",
    "\n",
    "### We can interconvert between data types\n",
    "\n",
    "division = int(division)\n",
    "print(\"Result of int(Division): {} - data type: {}\".format(division, type(division)))"
   ]
  },
  {
   "cell_type": "markdown",
   "metadata": {},
   "source": [
    "Floats are numbers stored with decimal places. The result of arithmetic operation on floats is always a float.\n",
    "\n",
    "A key difference between float and int is the number of bits in which the value is stored:\n",
    "- int: 32 bits\n",
    "- float: 64 bits\n",
    "\n",
    "Because floats are stored as bits, there is a slight loss of precision in the value leading to a large number of decimal places in the example below."
   ]
  },
  {
   "cell_type": "code",
   "execution_count": 38,
   "metadata": {},
   "outputs": [
    {
     "name": "stdout",
     "output_type": "stream",
     "text": [
      "Num1 type:  <class 'float'>\n",
      "Num2 type:  <class 'float'>\n",
      "\n",
      "Addition: 16.0 - data type: <class 'float'>\n",
      "Subtraction: 5.6000000000000005 - data type: <class 'float'>\n",
      "Multiplication: 56.160000000000004 - data type: <class 'float'>\n",
      "Division: 2.076923076923077 - data type: <class 'float'>\n",
      "Power: 236484.9615762452 - data type: <class 'float'>\n",
      "\n",
      "Result of int(subtraction): 5 - data type: <class 'int'>\n",
      "Result of round(subtraction): 6.0 - data type: <class 'float'>\n"
     ]
    }
   ],
   "source": [
    "# Define floats\n",
    "num1 = 10.8\n",
    "num2 = 5.2\n",
    "\n",
    "print(\"Num1 type: \", type(num1))  ### Print is an inbuilt python function to display values in a terminal\n",
    "print(\"Num2 type: \", type(num2))\n",
    "print(\"\")\n",
    "\n",
    "# Arithmetic operations\n",
    "addition = num1 + num2\n",
    "subtraction = num1 - num2\n",
    "multiplication = num1 * num2\n",
    "division = num1 / num2\n",
    "power = num1 ** num2\n",
    "\n",
    "print(\"Addition: {} - data type: {}\".format(addition, type(addition)))\n",
    "print(\"Subtraction: {} - data type: {}\".format(subtraction, type(subtraction)))\n",
    "print(\"Multiplication: {} - data type: {}\".format(multiplication, type(multiplication)))\n",
    "print(\"Division: {} - data type: {}\".format(division, type(division)))\n",
    "print(\"Power: {} - data type: {}\".format(power, type(power)))\n",
    "print(\"\")\n",
    "\n",
    "## Note the result of making an integer from an float, versus rounding the float\n",
    "subtraction_int = int(subtraction)\n",
    "subtraction_rounded = round(subtraction, 0)\n",
    "\n",
    "print(\"Result of int(subtraction): {} - data type: {}\".format(subtraction_int, type(subtraction_int)))\n",
    "print(\"Result of round(subtraction): {} - data type: {}\".format(subtraction_rounded, type(subtraction_rounded)))"
   ]
  },
  {
   "cell_type": "markdown",
   "metadata": {},
   "source": [
    "Incremental operators offer a shorthand to common arithemtic functions - useful in loops"
   ]
  },
  {
   "cell_type": "code",
   "execution_count": 39,
   "metadata": {},
   "outputs": [
    {
     "name": "stdout",
     "output_type": "stream",
     "text": [
      "Initial value of num: 10\n",
      "\n",
      "After incrementing by 5: 15\n",
      "After decrementing by 3: 12\n",
      "\n"
     ]
    }
   ],
   "source": [
    "# Define an integer variable\n",
    "num = 10\n",
    "\n",
    "print(\"Initial value of num:\", num)\n",
    "print(\"\")\n",
    "\n",
    "# Increment operators\n",
    "num += 5  # Equivalent to num = num + 5\n",
    "print(\"After incrementing by 5:\", num)\n",
    "\n",
    "num -= 3  # Equivalent to num = num - 3\n",
    "print(\"After decrementing by 3:\", num)\n",
    "\n",
    "print(\"\")\n"
   ]
  },
  {
   "cell_type": "markdown",
   "metadata": {},
   "source": [
    "### Example 2: Boolean values and operations\n",
    "\n",
    "Needing to evaluate whether certain conditions are true is essential to most code. Booleans and boolean operations are responsible for this.\n",
    "\n",
    "Bool values are either True or False. These values can be used in logical operations:"
   ]
  },
  {
   "cell_type": "code",
   "execution_count": 57,
   "metadata": {},
   "outputs": [
    {
     "name": "stdout",
     "output_type": "stream",
     "text": [
      "Is it sunny? True\n",
      "Is it raining? False\n",
      "Is it both sunny and raining? False\n",
      "Is it either sunny or raining? True\n",
      "Is it not sunny? False\n"
     ]
    }
   ],
   "source": [
    "# Define boolean variables\n",
    "is_sunny = True\n",
    "is_raining = False\n",
    "\n",
    "# Boolean operations\n",
    "print(\"Is it sunny?\", is_sunny)\n",
    "print(\"Is it raining?\", is_raining)\n",
    "\n",
    "# Logical AND operation\n",
    "is_both_sunny_and_raining = is_sunny and is_raining\n",
    "print(\"Is it both sunny and raining?\", is_both_sunny_and_raining)\n",
    "\n",
    "# Logical OR operation\n",
    "is_either_sunny_or_raining = is_sunny or is_raining\n",
    "print(\"Is it either sunny or raining?\", is_either_sunny_or_raining)\n",
    "\n",
    "# Logical NOT operation\n",
    "is_not_sunny = not is_sunny\n",
    "print(\"Is it not sunny?\", is_not_sunny)"
   ]
  },
  {
   "cell_type": "markdown",
   "metadata": {},
   "source": [
    "Booleans are also generated by comparison operators."
   ]
  },
  {
   "cell_type": "code",
   "execution_count": 62,
   "metadata": {},
   "outputs": [
    {
     "name": "stdout",
     "output_type": "stream",
     "text": [
      "Is the temperature greater than 20°C? True\n",
      "Is the temerature more than or equal to 26? False\n",
      "\n",
      "Is the pressure less than 1 atm? False\n",
      "Is the pressure less than or equal to 1.4? True\n",
      "\n",
      "Is the temperature exactly 25°C? True\n",
      "\n",
      "Is the temperature greater than 20°C and the pressure less or equal to 1.2 atm? True\n"
     ]
    }
   ],
   "source": [
    "# Define numerical variables\n",
    "temperature = 25  # in Celsius\n",
    "pressure = 1.2  # in atm\n",
    "\n",
    "# Numerical comparisons\n",
    "print(\"Is the temperature greater than 20°C?\", temperature > 20)\n",
    "print(\"Is the temerature more than or equal to 26?\", temperature >= 26)\n",
    "print(\"\")\n",
    "print(\"Is the pressure less than 1 atm?\", pressure < 1)\n",
    "print(\"Is the pressure less than or equal to 1.4?\", pressure <= 1.4)\n",
    "print(\"\")\n",
    "print(\"Is the temperature exactly 25°C?\", temperature == 25)\n",
    "print(\"\")\n",
    "## Can combine with logical operation:\n",
    "\n",
    "print(\"Is the temperature greater than 20°C and the pressure less or equal to 1.2 atm?\", temperature > 20 and pressure <= 1.2)"
   ]
  },
  {
   "cell_type": "markdown",
   "metadata": {},
   "source": [
    "### Example 3 - Lists and List Operations\n",
    "\n",
    "Lists are collections of objects - used to store and manipulate multiple values within the same variable. The elements of a list can be moified after defining the variable and are therefore \"mutable\"\n",
    "\n",
    "#### Note that all lists and list-like objects are indexed from 0\n",
    "e.g.\n",
    "```\n",
    "index:  0   1   2   3   4   5\n",
    "value:  8   6   8   4   0   8\n",
    "```\n",
    "\n",
    "Common list operations include:\n",
    "- accessing elements\n",
    "- adding elements\n",
    "- modifying elements\n",
    "- slicing lists\n",
    "- concatenating lists"
   ]
  },
  {
   "cell_type": "code",
   "execution_count": 2,
   "metadata": {},
   "outputs": [
    {
     "name": "stdout",
     "output_type": "stream",
     "text": [
      "Original List: ['hydrogen', 'helium', 'lithium', 'beryllium', 'boron', 'carbon']\n",
      "\n",
      "First element: hydrogen\n",
      "Last element: carbon\n",
      "\n",
      "Modified list: ['hydrogen', 'neon', 'lithium', 'beryllium', 'boron', 'carbon']\n",
      "\n",
      "List after appending: ['hydrogen', 'neon', 'lithium', 'beryllium', 'boron', 'carbon', 'nitrogen']\n"
     ]
    }
   ],
   "source": [
    "## Defining, accessing, adding to and modifying lists\n",
    "\n",
    "# Define a list of chemical elements\n",
    "elements = [\"hydrogen\", \"helium\", \"lithium\", \"beryllium\", \"boron\", \"carbon\"]\n",
    "print(\"Original List:\", elements)\n",
    "print(\"\")\n",
    "\n",
    "# Access elements in the list\n",
    "print(\"First element:\", elements[0])\n",
    "print(\"Last element:\", elements[-1])\n",
    "print(\"\")\n",
    "\n",
    "# Modify elements in the list\n",
    "elements[1] = \"neon\"\n",
    "print(\"Modified list:\", elements)\n",
    "print(\"\")\n",
    "\n",
    "# Add elements to the list\n",
    "elements.append(\"nitrogen\")\n",
    "print(\"List after appending:\", elements)"
   ]
  },
  {
   "cell_type": "code",
   "execution_count": 4,
   "metadata": {},
   "outputs": [
    {
     "name": "stdout",
     "output_type": "stream",
     "text": [
      "Removed element: beryllium\n",
      "List after popping: ['hydrogen', 'neon', 'boron', 'carbon', 'nitrogen']\n",
      "\n",
      "Is 'boron' in the list? True\n",
      "\n",
      "Length of the list: 5\n",
      "\n",
      "Elements:\n",
      "hydrogen\n",
      "neon\n",
      "boron\n",
      "carbon\n",
      "nitrogen\n",
      "\n",
      "Sliced list: ['neon', 'boron']\n",
      "\n",
      "Combined list: ['hydrogen', 'neon', 'boron', 'carbon', 'nitrogen', 'oxygen', 'fluorine']\n"
     ]
    }
   ],
   "source": [
    "# Remove elements from the list\n",
    "removed_element = elements.pop(2)\n",
    "print(\"Removed element:\", removed_element) # Useful if you want to remove an item and keep remaining items\n",
    "print(\"List after popping:\", elements)\n",
    "print(\"\")\n",
    "\n",
    "# Check if an element is in the list\n",
    "print(\"Is 'boron' in the list?\", \"boron\" in elements)\n",
    "print(\"\")\n",
    "\n",
    "# Get the length of the list\n",
    "print(\"Length of the list:\", len(elements))\n",
    "print(\"\")\n",
    "\n",
    "# Iterate over the elements in the list\n",
    "print(\"Elements:\")\n",
    "for element in elements:\n",
    "    print(element)\n",
    "print(\"\")\n",
    "\n",
    "# Slicing lists\n",
    "print(\"Sliced list:\", elements[1:3])\n",
    "print(\"\")\n",
    "\n",
    "# Concatenating lists\n",
    "more_elements = [\"oxygen\", \"fluorine\"]\n",
    "combined_elements = elements + more_elements\n",
    "print(\"Combined list:\", combined_elements)\n"
   ]
  },
  {
   "cell_type": "markdown",
   "metadata": {},
   "source": [
    "Tuples are very similar to lists but defined by ```()``` rather than ```[]```\n",
    "\n",
    "Tuples are not mutable so cannot be modified after definition. A key difference is that working with tuples is computationally more efficient than working with lists."
   ]
  },
  {
   "cell_type": "code",
   "execution_count": 69,
   "metadata": {},
   "outputs": [
    {
     "name": "stdout",
     "output_type": "stream",
     "text": [
      "First element: ('H', 1)\n",
      "Second element: ('He', 2)\n",
      "\n",
      "First element: H\n",
      "Atomic number of the first element: 1\n",
      "Number of elements in the tuple: 5\n",
      "\n",
      "First element, first symbol: K\n"
     ]
    },
    {
     "ename": "TypeError",
     "evalue": "'tuple' object does not support item assignment",
     "output_type": "error",
     "traceback": [
      "\u001b[1;31m---------------------------------------------------------------------------\u001b[0m",
      "\u001b[1;31mTypeError\u001b[0m                                 Traceback (most recent call last)",
      "Input \u001b[1;32mIn [69]\u001b[0m, in \u001b[0;36m<cell line: 27>\u001b[1;34m()\u001b[0m\n\u001b[0;32m     25\u001b[0m \u001b[38;5;28mprint\u001b[39m(\u001b[38;5;124m\"\u001b[39m\u001b[38;5;124mFirst element, first symbol:\u001b[39m\u001b[38;5;124m\"\u001b[39m,elements_list[\u001b[38;5;241m0\u001b[39m][\u001b[38;5;241m0\u001b[39m])\n\u001b[0;32m     26\u001b[0m \u001b[38;5;66;03m# Try to modify an element of a tuple - should return a type error.\u001b[39;00m\n\u001b[1;32m---> 27\u001b[0m elements[\u001b[38;5;241m0\u001b[39m][\u001b[38;5;241m0\u001b[39m] \u001b[38;5;241m=\u001b[39m \u001b[38;5;124m\"\u001b[39m\u001b[38;5;124mK\u001b[39m\u001b[38;5;124m\"\u001b[39m\n\u001b[0;32m     28\u001b[0m \u001b[38;5;28mprint\u001b[39m(\u001b[38;5;124m\"\u001b[39m\u001b[38;5;124mFirst element, first symbol:\u001b[39m\u001b[38;5;124m\"\u001b[39m,elements[\u001b[38;5;241m0\u001b[39m][\u001b[38;5;241m0\u001b[39m])\n",
      "\u001b[1;31mTypeError\u001b[0m: 'tuple' object does not support item assignment"
     ]
    }
   ],
   "source": [
    "# Define a tuple of atomic symbols and their atomic numbers\n",
    "# Note that this tuple contains other tuples - this is possible with lists too!\n",
    "\n",
    "elements = ((\"H\", 1), (\"He\", 2), (\"Li\", 3), (\"Be\", 4), (\"B\", 5))\n",
    "\n",
    "# Access elements in the tuple\n",
    "print(\"First element:\", elements[0])\n",
    "print(\"Second element:\", elements[1])\n",
    "print(\"\")\n",
    "\n",
    "# Tuple unpacking\n",
    "first_element, first_atomic_number = elements[0]\n",
    "print(\"First element:\", first_element)\n",
    "print(\"Atomic number of the first element:\", first_atomic_number)\n",
    "\n",
    "# Length of the tuple\n",
    "print(\"Number of elements in the tuple:\", len(elements))\n",
    "print(\"\")\n",
    "\n",
    "# Same collection but as a list\n",
    "elements_list = [[\"H\", 1], [\"He\", 2], [\"Li\", 3], [\"Be\", 4], [\"B\", 5]]\n",
    "\n",
    "# Try to modify an element of a list\n",
    "elements_list[0][0] = \"K\"\n",
    "print(\"First element, first symbol:\",elements_list[0][0])\n",
    "\n",
    "# Try to modify an element of a tuple - should return a type error.\n",
    "elements[0][0] = \"K\"\n",
    "print(\"First element, first symbol:\",elements[0][0])"
   ]
  },
  {
   "cell_type": "markdown",
   "metadata": {},
   "source": [
    "### Example 4 - Strings and string operations\n",
    "\n",
    "A string in Python is a sequence of characters enclosed within either single (' ') or double (\" \") quotation marks, allowing for the representation of textual data. Common operations on strings include conversion to uppercase or lowercase, checking for the presence of substrings, extracting substrings, formatting, and concatenation.\n",
    "\n",
    "Note that operations are very similar to lists."
   ]
  },
  {
   "cell_type": "code",
   "execution_count": 81,
   "metadata": {},
   "outputs": [
    {
     "name": "stdout",
     "output_type": "stream",
     "text": [
      "Hello, world!\n",
      "Length of the string: 13\n",
      "First character of the string: H\n",
      "Last character of the string: !\n",
      "Full greeting: Hello, Alice!\n",
      "Substring: world\n",
      "Contains 'world': True\n",
      "Formatted message: Hello, Alice! It is sunny.\n",
      "\n"
     ]
    }
   ],
   "source": [
    "# Define a string variable\n",
    "message = \"Hello, world!\"\n",
    "\n",
    "# Print the string\n",
    "print(message)\n",
    "\n",
    "# Get the length of the string\n",
    "length = len(message)\n",
    "print(\"Length of the string:\", length)\n",
    "\n",
    "# Access individual characters in the string\n",
    "first_character = message[0]\n",
    "print(\"First character of the string:\", first_character)\n",
    "\n",
    "last_character = message[-1]\n",
    "print(\"Last character of the string:\", last_character)\n",
    "\n",
    "# String concatenation\n",
    "greeting = \"Hello\"\n",
    "name = \"Alice\"\n",
    "full_greeting = greeting + \", \" + name + \"!\"\n",
    "print(\"Full greeting:\", full_greeting)\n",
    "\n",
    "# String slicing\n",
    "substring = message[7:12]\n",
    "print(\"Substring:\", substring)\n",
    "\n",
    "# Check if a substring is present in the string\n",
    "contains_world = \"world\" in message # Another logical operation - asks \"Is X in Y?\"\n",
    "print(\"Contains 'world':\", contains_world)\n",
    "\n",
    "# String formatting\n",
    "formatted_message = \"Hello, {}! It is {}.\".format(name, \"sunny\")\n",
    "print(\"Formatted message:\", formatted_message)\n",
    "print(\"\")"
   ]
  },
  {
   "cell_type": "code",
   "execution_count": 82,
   "metadata": {},
   "outputs": [
    {
     "name": "stdout",
     "output_type": "stream",
     "text": [
      "x to two decimal places: 554323.89\n",
      "x in scientific notation to 3 sf: 5.543e+05\n",
      "x but with commas and to the nearest integer: 554,324\n",
      "y as a percentage: 68%\n"
     ]
    }
   ],
   "source": [
    "# Many other formatting tricks for numbers. Can be done directly in print function.\n",
    "x = 554323.888\n",
    "y = 0.678\n",
    "print(\"x to two decimal places: {:.2f}\".format(x))\n",
    "print(\"x in scientific notation to 3 sf: {:.3e}\".format(x))\n",
    "print(\"x but with commas and to the nearest integer: {:,.0f}\".format(x))\n",
    "print(\"y as a percentage: {:.0%}\".format(y))"
   ]
  },
  {
   "cell_type": "markdown",
   "metadata": {},
   "source": [
    "### Example 5 - Dictionaries\n",
    "\n",
    "Dictionaries are like lists, but instead of indexes they are accessed by keys. They allow mapping of unique identifiers (keys) to corresponding values. Dictionaries are mutable so can be modified after creation."
   ]
  },
  {
   "cell_type": "code",
   "execution_count": 13,
   "metadata": {},
   "outputs": [],
   "source": [
    "### Multiple ways to create a dictionary\n",
    "\n",
    "# Creating an empty dictionary\n",
    "empty_dict = {}\n",
    "\n",
    "# Creating a dictionary with initial key-value pairs\n",
    "student_grades = {'Alice': 85, 'Bob': 90, 'Charlie': 88}\n",
    "\n",
    "# Creating a dictionary using dict() constructor\n",
    "student_scores = dict(Alice=85, Bob=90, Charlie=88)\n"
   ]
  },
  {
   "cell_type": "code",
   "execution_count": 15,
   "metadata": {},
   "outputs": [
    {
     "name": "stdout",
     "output_type": "stream",
     "text": [
      "90\n",
      "\n",
      "92\n",
      "92\n",
      "\n",
      "{'Alice': 85, 'Bob': 90, 'Charlie': 92, 'Chris': 200}\n",
      "{'Alice': 85, 'Bob': 90, 'Charlie': 92, 'Chris': 200}\n",
      "\n",
      "dict_keys(['Alice', 'Bob', 'Charlie', 'Chris'])\n",
      "dict_items([('Alice', 85), ('Bob', 90), ('Charlie', 92), ('Chris', 200)])\n"
     ]
    },
    {
     "ename": "TypeError",
     "evalue": "'builtin_function_or_method' object is not subscriptable",
     "output_type": "error",
     "traceback": [
      "\u001b[1;31m---------------------------------------------------------------------------\u001b[0m",
      "\u001b[1;31mTypeError\u001b[0m                                 Traceback (most recent call last)",
      "Input \u001b[1;32mIn [15]\u001b[0m, in \u001b[0;36m<cell line: 24>\u001b[1;34m()\u001b[0m\n\u001b[0;32m     21\u001b[0m \u001b[38;5;28mprint\u001b[39m(student_grades\u001b[38;5;241m.\u001b[39mitems())\n\u001b[0;32m     23\u001b[0m \u001b[38;5;66;03m# dict_keys and dict_items objects are not substriptable so cannot be accessed by index\u001b[39;00m\n\u001b[1;32m---> 24\u001b[0m \u001b[43mstudent_grades\u001b[49m\u001b[38;5;241;43m.\u001b[39;49m\u001b[43mitems\u001b[49m\u001b[43m[\u001b[49m\u001b[38;5;241;43m0\u001b[39;49m\u001b[43m]\u001b[49m\n",
      "\u001b[1;31mTypeError\u001b[0m: 'builtin_function_or_method' object is not subscriptable"
     ]
    }
   ],
   "source": [
    "# Values in a dictionary can be accessed by keys\n",
    "print(student_grades['Bob'])  \n",
    "print(\"\")\n",
    "\n",
    "# Values associated with a key can be modified.\n",
    "print(student_grades['Charlie'])\n",
    "student_grades['Charlie'] = 92\n",
    "print(student_grades['Charlie'])  \n",
    "print(\"\")\n",
    "\n",
    "# This can also be used to add new items:\n",
    "print(student_grades)\n",
    "student_grades['Chris'] = 200\n",
    "print(student_grades)\n",
    "print(\"\")\n",
    "\n",
    "# We can get see keys using:\n",
    "print(student_grades.keys())\n",
    "\n",
    "# We can access key, item pairs by:\n",
    "print(student_grades.items())\n",
    "\n",
    "# dict_keys and dict_items objects are not substriptable so cannot be accessed by index\n",
    "student_grades.items[0]"
   ]
  },
  {
   "cell_type": "code",
   "execution_count": 17,
   "metadata": {},
   "outputs": [
    {
     "name": "stdout",
     "output_type": "stream",
     "text": [
      "Alice\n",
      "Bob\n",
      "Charlie\n",
      "Chris\n",
      "\n",
      "Alice 85\n",
      "Bob 90\n",
      "Charlie 92\n",
      "Chris 200\n"
     ]
    }
   ],
   "source": [
    "#We can iterate over keys and items using the below \"for\" loops\n",
    "\n",
    "# Iterating over keys\n",
    "for name in student_grades:\n",
    "    print(name)\n",
    "print(\"\")\n",
    "\n",
    "# Iterating over key-value pairs\n",
    "for name, grade in student_grades.items():\n",
    "    print(name, grade)\n"
   ]
  },
  {
   "cell_type": "markdown",
   "metadata": {},
   "source": [
    "### Example 6: For loops\n",
    "\n",
    "Loops are very important for algorithmically performing tasks such as iterating through lists\n",
    "\n",
    "A useful function is ```range(x)``` which allows iteration of values through values 0:x, not including x."
   ]
  },
  {
   "cell_type": "code",
   "execution_count": 23,
   "metadata": {},
   "outputs": [
    {
     "name": "stdout",
     "output_type": "stream",
     "text": [
      "Initial value of x: 0\n",
      "0\n",
      "1\n",
      "2\n",
      "3\n",
      "Note that 4 is not included in the list of indexes iterated through\n",
      "Final value of x: 4\n",
      "\n",
      "10\n",
      "20\n",
      "30\n",
      "40\n"
     ]
    }
   ],
   "source": [
    "# A very basic loop example with incremental operator\n",
    "\n",
    "x = 0\n",
    "\n",
    "print(\"Initial value of x:\",x)\n",
    "\n",
    "for i in range(4): # loop iterates over the items generated by the function range(4). i.e. carry out this function 4 times\n",
    "    print(i)\n",
    "    x += 1\n",
    "print(\"Note that 4 is not included in the list of indexes iterated through\")\n",
    "print(\"Final value of x:\",x)\n",
    "print(\"\")\n",
    "\n",
    "# Range can also take start, stop and interval arguments\n",
    "\n",
    "for i in range(10,50,10):\n",
    "    print(i)\n",
    "print(\"Again, the stop value is not included.\")"
   ]
  },
  {
   "cell_type": "markdown",
   "metadata": {},
   "source": [
    "Loops are very useful for iterating through iterable objects e.g. lists, tuples. \n",
    "\n",
    "The function enumerate() also iterates through the indexes of items in the list"
   ]
  },
  {
   "cell_type": "code",
   "execution_count": 19,
   "metadata": {},
   "outputs": [
    {
     "name": "stdout",
     "output_type": "stream",
     "text": [
      "Elements in the list:\n",
      "hydrogen\n",
      "helium\n",
      "lithium\n",
      "beryllium\n",
      "boron\n",
      "carbon\n",
      "\n",
      "Elements in the list with their indices:\n",
      "Index 0: hydrogen\n",
      "Index 1: helium\n",
      "Index 2: lithium\n",
      "Index 3: beryllium\n",
      "Index 4: boron\n",
      "Index 5: carbon\n",
      "\n",
      "\n",
      "Elements from index 2 to 4:\n",
      "lithium\n",
      "beryllium\n",
      "boron\n"
     ]
    }
   ],
   "source": [
    "# Define a list of elements\n",
    "elements = [\"hydrogen\", \"helium\", \"lithium\", \"beryllium\", \"boron\", \"carbon\"]\n",
    "\n",
    "# Iterate over the elements in the list using a for loop\n",
    "print(\"Elements in the list:\")\n",
    "for element in elements:\n",
    "    print(element)\n",
    "print(\"\")\n",
    "\n",
    "# Iterate over the elements in the list using a for loop with index - enumerate iterates through tuples of index \n",
    "# and element which is unpacked to \"index\" and \"element\" variables\n",
    "\n",
    "print(\"Elements in the list with their indices:\")\n",
    "for index, element in enumerate(elements):\n",
    "    print(\"Index {}: {}\".format(index, element))\n",
    "print(\"\")\n",
    "\n",
    "# Iterate over a slice of the list\n",
    "print(\"\\nElements from index 2 to 4:\")\n",
    "for element in elements[2:5]:\n",
    "    print(element)"
   ]
  },
  {
   "cell_type": "markdown",
   "metadata": {},
   "source": [
    "### Example 7: If statements and while loops\n",
    "\n",
    "Often useful to only run lines of code when certain conditions are met. This is achieved by using if statements and conditional operators.\n",
    "\n",
    "The code following an if statement is only ran if the bool generated by the condition is \"True\""
   ]
  },
  {
   "cell_type": "code",
   "execution_count": 95,
   "metadata": {},
   "outputs": [
    {
     "name": "stdout",
     "output_type": "stream",
     "text": [
      "x is less than 10\n",
      "\n",
      "Value was True\n"
     ]
    }
   ],
   "source": [
    "# Define a variable\n",
    "x = 5\n",
    "\n",
    "# If statement - asks the equestion is x greater than, equal or \n",
    "if x > 10:\n",
    "    print(\"x is greater than 10\")\n",
    "elif x == 10: # equivalent to else if\n",
    "    print(\"x is equal to 10\")\n",
    "else: # if no statement is True\n",
    "    print(\"x is less than 10\")\n",
    "print(\"\")\n",
    "\n",
    "if True:\n",
    "    print(\"Value was True\")\n",
    "\n",
    "if False:\n",
    "    print(\"Value was false\") # Code will not run\n"
   ]
  },
  {
   "cell_type": "markdown",
   "metadata": {},
   "source": [
    "Can combine with loops with the break and continue functions"
   ]
  },
  {
   "cell_type": "code",
   "execution_count": 97,
   "metadata": {},
   "outputs": [
    {
     "name": "stdout",
     "output_type": "stream",
     "text": [
      "hydrogen\n",
      "lithium\n",
      "beryllium\n",
      "Boron has been found at index 4\n"
     ]
    }
   ],
   "source": [
    "# Define a list of elements\n",
    "elements = [\"hydrogen\", \"helium\", \"lithium\", \"beryllium\", \"boron\", \"carbon\"]\n",
    "\n",
    "# Iterate over the elements in the list using a for loop. Prints elements that aren't helium. Stops iterating through list when boron is reached.\n",
    "for i, element in enumerate(elements):\n",
    "    if element == \"helium\":\n",
    "        continue\n",
    "    elif element == \"boron\":\n",
    "        print(\"Boron has been found at index {}\".format(i))\n",
    "        break\n",
    "    else:\n",
    "        print(element)"
   ]
  },
  {
   "cell_type": "markdown",
   "metadata": {},
   "source": [
    "While loops will loop infinitely until a certain condition is met. \n",
    "```while True:``` loops for infinity unless the loop is broken\n",
    "```while condition == True:``` loops only while a given condition is true\n",
    "\n",
    "The condition for looping is evaluated each loop."
   ]
  },
  {
   "cell_type": "code",
   "execution_count": 102,
   "metadata": {},
   "outputs": [
    {
     "name": "stdout",
     "output_type": "stream",
     "text": [
      "Final value of y: 100\n",
      "\n",
      "Final value of x: 120\n"
     ]
    }
   ],
   "source": [
    "#Initialise y at zero\n",
    "\n",
    "y = 0\n",
    "while True: # loops forever until broken\n",
    "    y += 1 # increment y\n",
    "\n",
    "    if y >= 100:\n",
    "        break # statment exits the loop\n",
    "\n",
    "print(\"Final value of y:\",y)\n",
    "print(\"\")\n",
    "\n",
    "x = 0\n",
    "while x < 120: # while this statement is true, the loop continues\n",
    "    x += 1\n",
    "print(\"Final value of x:\",x)"
   ]
  },
  {
   "cell_type": "markdown",
   "metadata": {},
   "source": [
    "### Example 8: Functions\n",
    "\n",
    "Functions are a way of packaging reusable snippets of code. They save space, provide modularity and make code easier to read and maintain.\n",
    "\n",
    "Functions are defined by ```def function_name(arguments)```. The function can output a variable defined by ```return```, but does not necessarily need to return anything."
   ]
  },
  {
   "cell_type": "code",
   "execution_count": 104,
   "metadata": {},
   "outputs": [
    {
     "name": "stdout",
     "output_type": "stream",
     "text": [
      "Area of the rectangle: 15\n"
     ]
    }
   ],
   "source": [
    "def calculate_rectangle_area(length, width): # The function is defined\n",
    "    \"\"\"\n",
    "    The three quotation marks define a multi-line comment.\n",
    "    It is good practise to describe what the function does here.\n",
    "    \n",
    "    Calculate the area of a rectangle.\n",
    "\n",
    "    Parameters:\n",
    "    length (float): The length of the rectangle.\n",
    "    width (float): The width of the rectangle.\n",
    "\n",
    "    Returns:\n",
    "    float: The area of the rectangle.\n",
    "    \"\"\"\n",
    "    area = length * width\n",
    "    return area\n",
    "\n",
    "# Example usage:\n",
    "length = 5\n",
    "width = 3\n",
    "area = calculate_rectangle_area(length, width)\n",
    "print(\"Area of the rectangle:\", area)"
   ]
  },
  {
   "cell_type": "markdown",
   "metadata": {},
   "source": [
    "An example of a function which does not return a variable:"
   ]
  },
  {
   "cell_type": "code",
   "execution_count": 20,
   "metadata": {},
   "outputs": [
    {
     "name": "stdout",
     "output_type": "stream",
     "text": [
      "Hello World!\n"
     ]
    }
   ],
   "source": [
    "def join_and_print(string_a, string_b):\n",
    "    '''\n",
    "    Concatenates and prints two strings\n",
    "\n",
    "    Parameters:\n",
    "    string_a (string): The first string.\n",
    "    string_b (string): The second string.\n",
    "    '''\n",
    "\n",
    "    print(string_a + \" \" + string_b)\n",
    "\n",
    "first_word = \"Hello\"\n",
    "second_word = \"World!\"\n",
    "\n",
    "join_and_print(first_word, second_word)"
   ]
  }
 ],
 "metadata": {
  "kernelspec": {
   "display_name": "Python 3",
   "language": "python",
   "name": "python3"
  },
  "language_info": {
   "codemirror_mode": {
    "name": "ipython",
    "version": 3
   },
   "file_extension": ".py",
   "mimetype": "text/x-python",
   "name": "python",
   "nbconvert_exporter": "python",
   "pygments_lexer": "ipython3",
   "version": "3.8.13"
  }
 },
 "nbformat": 4,
 "nbformat_minor": 2
}
