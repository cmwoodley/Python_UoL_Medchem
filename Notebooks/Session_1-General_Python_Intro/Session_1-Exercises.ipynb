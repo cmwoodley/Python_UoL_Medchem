{
 "cells": [
  {
   "cell_type": "markdown",
   "metadata": {},
   "source": [
    "## Session 1 - General Introduction to Python in Jupyter Notebooks"
   ]
  },
  {
   "cell_type": "markdown",
   "metadata": {},
   "source": [
    "### Basic Exercises\n",
    "\n",
    "1. Print the result of multiplacation and division of two floating point numbers. Print the result to 3 decimal places."
   ]
  },
  {
   "cell_type": "code",
   "execution_count": null,
   "metadata": {},
   "outputs": [],
   "source": [
    "a = 35.224\n",
    "b = 2.465\n",
    "\n",
    "# Evaluate multiplication\n",
    "\n",
    "\n",
    "# Evaluate division"
   ]
  },
  {
   "cell_type": "markdown",
   "metadata": {},
   "source": [
    "2. Accessing items of a list."
   ]
  },
  {
   "cell_type": "code",
   "execution_count": 25,
   "metadata": {},
   "outputs": [],
   "source": [
    "items = [10,23,64,23,20, 65, 45, 84, 95, 62, 91]\n",
    "\n",
    "# Print the first three items of the list\n",
    "\n",
    "\n",
    "# Print the last item of the list\n",
    "\n",
    "\n",
    "# Write a conditional statement to evaluate if the first and last item of the list are the same"
   ]
  },
  {
   "cell_type": "markdown",
   "metadata": {},
   "source": [
    "3. Print the following pattern:\n",
    "\n",
    "```\n",
    "1 \n",
    "2 2 \n",
    "3 3 3 \n",
    "4 4 4 4 \n",
    "5 5 5 5 5\n",
    "```"
   ]
  },
  {
   "cell_type": "code",
   "execution_count": null,
   "metadata": {},
   "outputs": [],
   "source": [
    "# Write code below"
   ]
  },
  {
   "cell_type": "markdown",
   "metadata": {},
   "source": [
    "4. Write a calculator which returns the sum of two values"
   ]
  },
  {
   "cell_type": "code",
   "execution_count": null,
   "metadata": {},
   "outputs": [],
   "source": [
    "def addition_calculator(a,b):\n",
    "    '''\n",
    "    Function that carries out adds two values.\n",
    "\n",
    "    Parameters:\n",
    "    a (int or float)\n",
    "    b (int or float)\n",
    "    '''\n",
    "\n",
    "    return result\n",
    "\n",
    "a = 10\n",
    "b = 2\n",
    "result = addition_calculator(a, b)\n",
    "print(\"Result:\",result)"
   ]
  },
  {
   "cell_type": "markdown",
   "metadata": {},
   "source": [
    "5. Write a calculator function which takes the arguments a, b and an operator.\n",
    "\n",
    "Hint - take operator as a string and use comparison operators to return the right answer."
   ]
  },
  {
   "cell_type": "code",
   "execution_count": null,
   "metadata": {},
   "outputs": [],
   "source": [
    "def calculator(a,b,operator):\n",
    "    '''\n",
    "    Function that carries out aritmetic operations on two values.\n",
    "\n",
    "    Parameters:\n",
    "    a (int or float)\n",
    "    b (int or float)\n",
    "    operator (string): Must be in [\"+\", \"-\", \"*\", \"/\"]\n",
    "    '''\n",
    "\n",
    "    return result\n",
    "\n",
    "a = 10\n",
    "b = 2\n",
    "result = calculator(a, b, \"/\")\n",
    "print(\"Result:\",result)"
   ]
  },
  {
   "cell_type": "markdown",
   "metadata": {},
   "source": [
    "6. Find the line containing the phrase \"Sum of electronic and thermal Free Energies\" from this gaussian log file snippet. Extract the associated value as a float using the function string.split()"
   ]
  },
  {
   "cell_type": "code",
   "execution_count": null,
   "metadata": {},
   "outputs": [],
   "source": [
    "log_snippet = [\n",
    "    \"...\", \n",
    "    \"Alpha  occ. eigenvalues --  -505.59419670  -497.91244789  -497.91244789  -497.90854243  -497.89904432  -497.89782244\\n\", \n",
    "    \"                     --  -485.23480869  -485.22243301  -485.22243301  -484.56076218  -484.25416247  -484.24299094\\n\", \n",
    "    \"Sum of electronic and thermal Free Energies:            -1546.44966678354\\n\", \n",
    "    \" Sum of electronic and thermal Enthalpies:              -1546.44863475489\\n\", \n",
    "    \" Sum of electronic and thermal Energies:                -1546.44857258613\\n\", \n",
    "    \" Free energy of solvation from gas phase to surface:     -50.70178159\\n\", \n",
    "    \" Solvation free energy from solution to surface:         -34.85512359\\n\", \n",
    "    \" Surface tension:                                         15.84665700\\n\", \n",
    "    \" Cartesian Coordinates (Angstroms):\\n\", \n",
    "    \"    O       0.000000     0.000000     0.000000\\n\", \n",
    "    \"    H       0.000000     0.761000     0.000000\\n\", \n",
    "    \"    H       0.000000    -0.761000     0.000000\\n\",\n",
    "    \"...\"\n",
    "]\n",
    "\n",
    "for line in log_snippet: # iterate through log file\n",
    "\n",
    "\n",
    "value_au =  # Extracted value in au\n",
    "\n",
    "value_kcal = # convert value here 1 au = 627.503 kcal/mol\n",
    "\n",
    "print(\"Sum of electronic and thermal = {:.3e} kcal/mol\".format(value_kcal))"
   ]
  },
  {
   "cell_type": "markdown",
   "metadata": {},
   "source": [
    "### Exercise 1:\n",
    "\n",
    "Write code to iterate through the atoms of glucose and calculate the molecular weight. Append each atoms to lists and use the lengths of these lists to write the molecular formula to 3 decimal places."
   ]
  },
  {
   "cell_type": "code",
   "execution_count": 90,
   "metadata": {},
   "outputs": [
    {
     "name": "stdout",
     "output_type": "stream",
     "text": [
      "Molecular Formula: C6H6O3\n",
      "Molecular Weight: 126.111\n"
     ]
    }
   ],
   "source": [
    "glucose = [\n",
    "    (\"C\", 12.011),  \n",
    "    (\"C\", 12.011),  \n",
    "    (\"C\", 12.011),  \n",
    "    (\"C\", 12.011),  \n",
    "    (\"C\", 12.011),\n",
    "    (\"C\", 12.011),\n",
    "    (\"H\", 1.008),\n",
    "    (\"H\", 1.008),\n",
    "    (\"H\", 1.008), \n",
    "    (\"H\", 1.008),\n",
    "    (\"H\", 1.008), \n",
    "    (\"H\", 1.008),\n",
    "    (\"O\", 15.999),\n",
    "    (\"O\", 15.999),\n",
    "    (\"O\", 15.999),\n",
    "]\n",
    "\n",
    "# Initialise molecular weight float\n",
    "\n",
    "molecular_weight = 0.\n",
    "\n",
    "# Initialise atom counts\n",
    "\n",
    "carbons = 0\n",
    "hydrogens = 0\n",
    "oxygens = 0\n",
    "\n",
    "for symbol, atomic_weight in glucose:\n",
    "    # Use iterative operator to sum atomic weights and element counts\n",
    "\n",
    "molecular_formula = \"C{}H{}O{}\".format() # Add the correct arguments to molecular formula\n",
    "\n",
    "print(\"Molecular Formula: {}\".format(molecular_formula))\n",
    "print(\"Molecular Weight: {:.3f}\".format(molecular_weight))"
   ]
  },
  {
   "cell_type": "markdown",
   "metadata": {},
   "source": [
    "## Exercise 2: \n",
    "\n",
    "Write a ```function``` to iterate through a chemical formula and extract and print the number of atoms. Use the in-built functions of a string ``` string.isalpha()``` and ```string.isdigit()``` to check if a character is an element symbol or the number of atoms\n",
    "\n",
    "For ease, stick to single letter elements and single digit numbers of atoms. Also include numbers for single atoms. E.g. CO2 = C1O2"
   ]
  },
  {
   "cell_type": "code",
   "execution_count": 8,
   "metadata": {},
   "outputs": [
    {
     "name": "stdout",
     "output_type": "stream",
     "text": [
      "Number of C atoms is 6.\n",
      "Number of H atoms is 7.\n",
      "Number of O atoms is 1.\n",
      "Number of K atoms is 6.\n"
     ]
    }
   ],
   "source": [
    "def number_of_atoms(formula):\n",
    "    atoms = []\n",
    "    numbers = []\n",
    "\n",
    "    for char in formula:\n",
    "        # Iterate through characters. Consider whether the value is a letter or a digit\n",
    "        # Append to correct list\n",
    "\n",
    "    for i in range(len(atoms)):\n",
    "        print(\"Number of {} atoms is {}.\".format(atoms[i],numbers[i]))\n",
    "\n",
    "number_of_atoms(\"C6H7O1K6\")"
   ]
  },
  {
   "cell_type": "markdown",
   "metadata": {},
   "source": [
    "### Exercise 3:\n",
    "\n",
    "Modify your code from the previous exercise to calculate molecular weight from a chemical formula. A ```dictionary``` is useful for this as you can get values using a key - in our case the element symbol."
   ]
  },
  {
   "cell_type": "code",
   "execution_count": 13,
   "metadata": {},
   "outputs": [
    {
     "name": "stdout",
     "output_type": "stream",
     "text": [
      "Molecular weight of C6H6O3 is 126.111.\n"
     ]
    }
   ],
   "source": [
    "atomic_weights = {\n",
    "    \"H\": 1.008,\n",
    "    \"He\": 4.0026,\n",
    "    \"Li\": 6.94,\n",
    "    \"Be\": 9.0122,\n",
    "    \"B\": 10.81,\n",
    "    \"C\": 12.011,\n",
    "    \"N\": 14.007,\n",
    "    \"O\": 15.999,\n",
    "}\n",
    "\n",
    "\n",
    "def calc_molecular_Weight(formula):\n",
    "    atoms = []\n",
    "    numbers = []\n",
    "\n",
    "    for char in formula:\n",
    "        # Iterate through characters. Consider whether the value is a letter or a digit\n",
    "        # Append to correct list\n",
    "\n",
    "    molecular_weight = 0. # Initialise molecular weight\n",
    "\n",
    "    for i in range(len(atoms)):\n",
    "        # Access values in atoms and numbers by index, lookup atoms in dictionary to get atomic weights\n",
    "\n",
    "    return molecular_weight\n",
    "\n",
    "formula = \"C6H6O3\"\n",
    "molecular_weight = calc_molecular_Weight(formula)\n",
    "\n",
    "print(\"Molecular weight of {} is {}.\".format(formula, molecular_weight))"
   ]
  },
  {
   "cell_type": "markdown",
   "metadata": {},
   "source": [
    "### Exercise 4:\n",
    "\n",
    "Modify the function from exercise 3 to return the correct molecular weight for \"C7H8OBr\"\n",
    "\n",
    "We now need to consider whether a character represents the first letter of a symbol or the second.\n",
    "\n",
    "This can be achieved user ```string.isupper()``` and ```string.islower()```.\n",
    "\n",
    "We also need to consider the case that a single atom has no value after it!"
   ]
  },
  {
   "cell_type": "code",
   "execution_count": null,
   "metadata": {},
   "outputs": [],
   "source": [
    "atomic_weights = {\n",
    "    \"H\": 1.008,\n",
    "    \"He\": 4.0026,\n",
    "    \"Li\": 6.94,\n",
    "    \"Be\": 9.0122,\n",
    "    \"B\": 10.81,\n",
    "    \"C\": 12.011,\n",
    "    \"N\": 14.007,\n",
    "    \"O\": 15.999,\n",
    "    \"Br\": 79.904,\n",
    "}\n",
    "\n",
    "def calc_molecular_Weight(formula):\n",
    "    \n",
    "\n",
    "    return molecular_weight\n",
    "\n",
    "formula = \"C7H8OBr\"\n",
    "molecular_weight = calc_molecular_Weight(formula)\n",
    "\n",
    "print(\"Molecular weight of {} is {:.3f}.\".format(formula, molecular_weight))"
   ]
  }
 ],
 "metadata": {
  "kernelspec": {
   "display_name": "Python 3",
   "language": "python",
   "name": "python3"
  },
  "language_info": {
   "codemirror_mode": {
    "name": "ipython",
    "version": 3
   },
   "file_extension": ".py",
   "mimetype": "text/x-python",
   "name": "python",
   "nbconvert_exporter": "python",
   "pygments_lexer": "ipython3",
   "version": "3.8.13"
  }
 },
 "nbformat": 4,
 "nbformat_minor": 2
}
