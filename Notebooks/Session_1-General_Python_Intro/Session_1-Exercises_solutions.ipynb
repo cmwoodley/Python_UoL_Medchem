{
 "cells": [
  {
   "attachments": {},
   "cell_type": "markdown",
   "metadata": {},
   "source": [
    "## Session 1 - General Introduction to Python in Jupyter Notebooks"
   ]
  },
  {
   "attachments": {},
   "cell_type": "markdown",
   "metadata": {},
   "source": [
    "### Basic Exercises\n",
    "\n",
    "1. Print the result of multiplacation and division of two floating point numbers. Print the result to 3 decimal places."
   ]
  },
  {
   "cell_type": "code",
   "execution_count": 1,
   "metadata": {},
   "outputs": [
    {
     "name": "stdout",
     "output_type": "stream",
     "text": [
      "Result of a*b: 86.827\n",
      "Result of a/b: 14.290\n"
     ]
    }
   ],
   "source": [
    "a = 35.224\n",
    "b = 2.465\n",
    "\n",
    "# Evaluate multiplication\n",
    "c = a * b\n",
    "\n",
    "# Evaluate division\n",
    "d = a/b\n",
    "\n",
    "print(\"Result of a*b: {:.3f}\".format(c))\n",
    "print(\"Result of a/b: {:.3f}\".format(d))"
   ]
  },
  {
   "attachments": {},
   "cell_type": "markdown",
   "metadata": {},
   "source": [
    "2. Accessing items of a list."
   ]
  },
  {
   "cell_type": "code",
   "execution_count": 2,
   "metadata": {},
   "outputs": [
    {
     "name": "stdout",
     "output_type": "stream",
     "text": [
      "[10, 23, 64]\n",
      "91\n",
      "False\n"
     ]
    }
   ],
   "source": [
    "items = [10,23,64,23,20, 65, 45, 84, 95, 62, 91]\n",
    "\n",
    "# Print the first three items of the list\n",
    "print(items[:3])\n",
    "\n",
    "# Print the last item of the list\n",
    "print(items[-1])\n",
    "\n",
    "# Write a conditional statement to evaluate if the first and last item of the list are the same\n",
    "print(items[0] == items[-1])"
   ]
  },
  {
   "attachments": {},
   "cell_type": "markdown",
   "metadata": {},
   "source": [
    "3. Print the following pattern:\n",
    "\n",
    "```\n",
    "1 \n",
    "2 2 \n",
    "3 3 3 \n",
    "4 4 4 4 \n",
    "5 5 5 5 5\n",
    "```"
   ]
  },
  {
   "cell_type": "code",
   "execution_count": 10,
   "metadata": {},
   "outputs": [
    {
     "name": "stdout",
     "output_type": "stream",
     "text": [
      "1 \n",
      "2 2 \n",
      "3 3 3 \n",
      "4 4 4 4 \n",
      "5 5 5 5 5 \n",
      "\n",
      "1 \n",
      "2 2 \n",
      "3 3 3 \n",
      "4 4 4 4 \n",
      "5 5 5 5 5 \n"
     ]
    }
   ],
   "source": [
    "# Write code below\n",
    "\n",
    "for i in range(5):\n",
    "    print((str(i+1)+\" \")*(i+1))\n",
    "\n",
    "\n",
    "## OR\n",
    "print(\"\")\n",
    "    \n",
    "for i in range(1,6):\n",
    "    print((str(i)+\" \")*(i))"
   ]
  },
  {
   "attachments": {},
   "cell_type": "markdown",
   "metadata": {},
   "source": [
    "4. Write a calculator which returns the sum of two values"
   ]
  },
  {
   "cell_type": "code",
   "execution_count": 3,
   "metadata": {},
   "outputs": [
    {
     "name": "stdout",
     "output_type": "stream",
     "text": [
      "Result: 12\n"
     ]
    }
   ],
   "source": [
    "def addition_calculator(a,b):\n",
    "    '''\n",
    "    Function that carries out adds two values.\n",
    "\n",
    "    Parameters:\n",
    "    a (int or float)\n",
    "    b (int or float)\n",
    "    '''\n",
    "\n",
    "    result = a + b\n",
    "\n",
    "    return result\n",
    "\n",
    "a = 10\n",
    "b = 2\n",
    "result = addition_calculator(a, b)\n",
    "print(\"Result:\",result)"
   ]
  },
  {
   "attachments": {},
   "cell_type": "markdown",
   "metadata": {},
   "source": [
    "5. Write a calculator function which takes the arguments a, b and an operator.\n",
    "\n",
    "Hint - take operator as a string and use comparison operators to return the right answer."
   ]
  },
  {
   "cell_type": "code",
   "execution_count": 4,
   "metadata": {},
   "outputs": [
    {
     "name": "stdout",
     "output_type": "stream",
     "text": [
      "Result: 5.0\n"
     ]
    }
   ],
   "source": [
    "def calculator(a,b,operator):\n",
    "    '''\n",
    "    Function that carries out aritmetic operations on two values.\n",
    "\n",
    "    Parameters:\n",
    "    a (int or float)\n",
    "    b (int or float)\n",
    "    operator (string): Must be in [\"+\", \"-\", \"*\", \"/\"]\n",
    "    '''\n",
    "\n",
    "    if operator == \"+\":\n",
    "        result = a + b\n",
    "    elif operator == \"-\":\n",
    "        result = a - b\n",
    "    elif operator == \"*\":\n",
    "        result = a * b\n",
    "    elif operator == \"/\":\n",
    "        result = a / b\n",
    "    return result\n",
    "\n",
    "a = 10\n",
    "b = 2\n",
    "result = calculator(a, b, \"/\")\n",
    "print(\"Result:\",result)"
   ]
  },
  {
   "attachments": {},
   "cell_type": "markdown",
   "metadata": {},
   "source": [
    "6. Find the line containing the phrase \"Sum of electronic and thermal Free Energies\" from this gaussian log file snippet. Extract the associated value as a float using the function string.split()"
   ]
  },
  {
   "cell_type": "code",
   "execution_count": 14,
   "metadata": {},
   "outputs": [
    {
     "name": "stdout",
     "output_type": "stream",
     "text": [
      "Sum of electronic and thermal = -9.704e+05 kcal/mol\n"
     ]
    }
   ],
   "source": [
    "log_snippet = [\n",
    "    \"...\", \n",
    "    \"Alpha  occ. eigenvalues --  -505.59419670  -497.91244789  -497.91244789  -497.90854243  -497.89904432  -497.89782244\\n\", \n",
    "    \"                     --  -485.23480869  -485.22243301  -485.22243301  -484.56076218  -484.25416247  -484.24299094\\n\", \n",
    "    \"Sum of electronic and thermal Free Energies:            -1546.44966678354\\n\", \n",
    "    \" Sum of electronic and thermal Enthalpies:              -1546.44863475489\\n\", \n",
    "    \" Sum of electronic and thermal Energies:                -1546.44857258613\\n\", \n",
    "    \" Free energy of solvation from gas phase to surface:     -50.70178159\\n\", \n",
    "    \" Solvation free energy from solution to surface:         -34.85512359\\n\", \n",
    "    \" Surface tension:                                         15.84665700\\n\", \n",
    "    \" Cartesian Coordinates (Angstroms):\\n\", \n",
    "    \"    O       0.000000     0.000000     0.000000\\n\", \n",
    "    \"    H       0.000000     0.761000     0.000000\\n\", \n",
    "    \"    H       0.000000    -0.761000     0.000000\\n\",\n",
    "    \"...\"\n",
    "]\n",
    "\n",
    "for line in log_snippet: # iterate through log file\n",
    "    if \"Sum of electronic and thermal Free Energies:\" in line:\n",
    "        break\n",
    "\n",
    "value_au =  float(line.split()[-1]) # Extracted value in au\n",
    "\n",
    "value_kcal = value_au * 627.503 # convert value here 1 au = 627.503 kcal/mol\n",
    "\n",
    "print(\"Sum of electronic and thermal = {:.3e} kcal/mol\".format(value_kcal))"
   ]
  },
  {
   "attachments": {},
   "cell_type": "markdown",
   "metadata": {},
   "source": [
    "### Exercise 1:\n",
    "\n",
    "Write code to iterate through the atoms of glucose and calculate the molecular weight. Append each atoms to lists and use the lengths of these lists to write the molecular formula to 3 decimal places."
   ]
  },
  {
   "cell_type": "code",
   "execution_count": 15,
   "metadata": {},
   "outputs": [
    {
     "name": "stdout",
     "output_type": "stream",
     "text": [
      "Molecular Formula: C6H6O3\n",
      "Molecular Weight: 126.111\n"
     ]
    }
   ],
   "source": [
    "glucose = [\n",
    "    (\"C\", 12.011),  \n",
    "    (\"C\", 12.011),  \n",
    "    (\"C\", 12.011),  \n",
    "    (\"C\", 12.011),  \n",
    "    (\"C\", 12.011),\n",
    "    (\"C\", 12.011),\n",
    "    (\"H\", 1.008),\n",
    "    (\"H\", 1.008),\n",
    "    (\"H\", 1.008), \n",
    "    (\"H\", 1.008),\n",
    "    (\"H\", 1.008), \n",
    "    (\"H\", 1.008),\n",
    "    (\"O\", 15.999),\n",
    "    (\"O\", 15.999),\n",
    "    (\"O\", 15.999),\n",
    "]\n",
    "\n",
    "# Initialise molecular weight float\n",
    "\n",
    "molecular_weight = 0.\n",
    "\n",
    "# Define lists\n",
    "\n",
    "carbons = []\n",
    "hydrogens = []\n",
    "oxygens = []\n",
    "\n",
    "for symbol, atomic_weight in glucose:\n",
    "    molecular_weight += atomic_weight\n",
    "\n",
    "    if symbol == \"C\":\n",
    "        carbons.append(symbol)\n",
    "    elif symbol == \"H\":\n",
    "        hydrogens.append(symbol)\n",
    "    else: \n",
    "        oxygens.append(symbol)\n",
    "\n",
    "molecular_formula = \"C{}H{}O{}\".format(len(carbons),len(hydrogens),len(oxygens))\n",
    "\n",
    "print(\"Molecular Formula: {}\".format(molecular_formula))\n",
    "print(\"Molecular Weight: {:.3f}\".format(molecular_weight))"
   ]
  },
  {
   "attachments": {},
   "cell_type": "markdown",
   "metadata": {},
   "source": [
    "## Exercise 2: \n",
    "\n",
    "Write a ```function``` to iterate through a chemical formula and extract and print the number of atoms. Use the inbuit functions of a string ``` string.isalpha()``` and ```string.isdigit()``` to check if a character is an element symbol or the number of atoms\n",
    "\n",
    "For ease, stick to single letter elements and single digit numbers of atoms. Also include numbers for single atoms. E.g. CO2 = C1O2"
   ]
  },
  {
   "cell_type": "code",
   "execution_count": 19,
   "metadata": {},
   "outputs": [
    {
     "name": "stdout",
     "output_type": "stream",
     "text": [
      "Number of C atoms is 7.\n",
      "Number of H atoms is 7.\n",
      "Number of O atoms is 2.\n",
      "Number of F atoms is 1.\n"
     ]
    }
   ],
   "source": [
    "def number_of_atoms(formula):\n",
    "    atoms = []\n",
    "    numbers = []\n",
    "\n",
    "    for char in formula:\n",
    "        if char.isalpha():\n",
    "            atoms.append(char)\n",
    "        else:\n",
    "            numbers.append(int(char))\n",
    "\n",
    "    for i in range(len(atoms)):\n",
    "        print(\"Number of {} atoms is {}.\".format(atoms[i],numbers[i]))\n",
    "\n",
    "number_of_atoms(\"C7H7O2F1\")"
   ]
  },
  {
   "attachments": {},
   "cell_type": "markdown",
   "metadata": {},
   "source": [
    "### Exercise 3:\n",
    "\n",
    "Modify your code from the previous exercise to calculate molecular weight from a chemical formula. A ```dictionary``` is useful for this as you can get values using a key - in our case the element symbol."
   ]
  },
  {
   "cell_type": "code",
   "execution_count": 20,
   "metadata": {},
   "outputs": [
    {
     "name": "stdout",
     "output_type": "stream",
     "text": [
      "Molecular weight of C6H6O3 is 126.111.\n"
     ]
    }
   ],
   "source": [
    "atomic_weights = {\n",
    "    \"H\": 1.008,\n",
    "    \"He\": 4.0026,\n",
    "    \"Li\": 6.94,\n",
    "    \"Be\": 9.0122,\n",
    "    \"B\": 10.81,\n",
    "    \"C\": 12.011,\n",
    "    \"N\": 14.007,\n",
    "    \"O\": 15.999,\n",
    "}\n",
    "\n",
    "\n",
    "def calc_molecular_Weight(formula):\n",
    "    atoms = []\n",
    "    numbers = []\n",
    "\n",
    "    for char in formula:\n",
    "        if char.isalpha():\n",
    "            atoms.append(char)\n",
    "        else:\n",
    "            numbers.append(int(char))\n",
    "\n",
    "    molecular_weight = 0.\n",
    "    for i in range(len(atoms)):\n",
    "        molecular_weight += atomic_weights[atoms[i]]*numbers[i]\n",
    "\n",
    "    return molecular_weight\n",
    "\n",
    "formula = \"C6H6O3\"\n",
    "molecular_weight = calc_molecular_Weight(formula)\n",
    "\n",
    "print(\"Molecular weight of {} is {}.\".format(formula, molecular_weight))"
   ]
  },
  {
   "attachments": {},
   "cell_type": "markdown",
   "metadata": {},
   "source": [
    "### Exercise 4:\n",
    "\n",
    "Modify the function from exercise 3 to return the correct molecular weight for \"C7H8OBr\"\n",
    "\n",
    "We now need to consider whether a character represents the first letter of a symbol or the second.\n",
    "\n",
    "This can be achieved user ```string.isupper()``` and ```string.islower()```.\n",
    "\n",
    "We also need to consider the case that a single atom has no value after it!"
   ]
  },
  {
   "cell_type": "code",
   "execution_count": 5,
   "metadata": {},
   "outputs": [
    {
     "name": "stdout",
     "output_type": "stream",
     "text": [
      "Molecular weight of C7H8OBr is 188.044.\n"
     ]
    }
   ],
   "source": [
    "atomic_weights = {\n",
    "    \"H\": 1.008,\n",
    "    \"He\": 4.0026,\n",
    "    \"Li\": 6.94,\n",
    "    \"Be\": 9.0122,\n",
    "    \"B\": 10.81,\n",
    "    \"C\": 12.011,\n",
    "    \"N\": 14.007,\n",
    "    \"O\": 15.999,\n",
    "    \"Br\": 79.904,\n",
    "}\n",
    "\n",
    "def calc_molecular_Weight(formula):\n",
    "    atoms = []\n",
    "    numbers = []\n",
    "\n",
    "    for i in range(len(formula)):\n",
    "\n",
    "        if formula[i].isupper():                        \n",
    "            current_atom = formula[i]                   \n",
    "            if i + 1 < len(formula):                    \n",
    "                if formula[i+1].islower():              \n",
    "                    current_atom += formula[i+1]        \n",
    "                    if i + 2 < len(formula):            \n",
    "                        if formula[i+2].isupper(): \n",
    "                            numbers.append(1)\n",
    "                    else:\n",
    "                        numbers.append(1)               \n",
    "                elif formula[i+1].isupper():            \n",
    "                    numbers.append(1)\n",
    "            else:\n",
    "                numbers.append(1)                       \n",
    "            \n",
    "            atoms.append(current_atom)                  \n",
    "            \n",
    "        elif formula[i].isdigit() and formula[i-1].isalpha(): \n",
    "            current_number = formula[i]                     \n",
    "            if i+1 < len(formula):                          \n",
    "                if formula[i+1].isdigit():                  \n",
    "                    current_number += formula[i+1]          \n",
    "            numbers.append(int(current_number))             \n",
    "\n",
    "    molecular_weight = 0.   \n",
    "    for i in range(len(atoms)):\n",
    "        molecular_weight += atomic_weights[atoms[i]]*numbers[i] \n",
    "\n",
    "    return molecular_weight\n",
    "\n",
    "formula = \"C7H8OBr\"\n",
    "molecular_weight = calc_molecular_Weight(formula)\n",
    "\n",
    "print(\"Molecular weight of {} is {:.3f}.\".format(formula, molecular_weight))"
   ]
  },
  {
   "cell_type": "code",
   "execution_count": 25,
   "metadata": {},
   "outputs": [
    {
     "name": "stdout",
     "output_type": "stream",
     "text": [
      "Molecular weight of C7H8OBr is 188.044.\n"
     ]
    }
   ],
   "source": [
    "# Solution 1 - quite long winded but reflects how a human would interpret values\n",
    "\n",
    "atomic_weights = {\n",
    "    \"H\": 1.008,\n",
    "    \"He\": 4.0026,\n",
    "    \"Li\": 6.94,\n",
    "    \"Be\": 9.0122,\n",
    "    \"B\": 10.81,\n",
    "    \"C\": 12.011,\n",
    "    \"N\": 14.007,\n",
    "    \"O\": 15.999,\n",
    "    \"Br\": 79.904,\n",
    "}\n",
    "\n",
    "def calc_molecular_Weight(formula):\n",
    "    atoms = []\n",
    "    numbers = []\n",
    "\n",
    "    for i in range(len(formula)):\n",
    "\n",
    "        if formula[i].isupper():                        # If a value is uppercase, this is the start of an element\n",
    "            current_atom = formula[i]                   # Assign value to current atom\n",
    "            if i + 1 < len(formula):                    # Check that i+1 is in a valid index\n",
    "                if formula[i+1].islower():              # If character at i+1 is lowercase add it to the current atom \n",
    "                    current_atom += formula[i+1]        \n",
    "                    if i + 2 < len(formula):            # Check if i+2 is a valid index\n",
    "                        if formula[i+2].isupper():      # If character at i+2 is uppercase, there must be only one atom of current atom type\n",
    "                            numbers.append(1)\n",
    "                    else:\n",
    "                        numbers.append(1)               # If the value of i+2 is not a valid index, this is the end of the formula so must only be one atom of this type\n",
    "                elif formula[i+1].isupper():            # If the character at i+1 is uppercase, this is a new atom-type so only one of current atom\n",
    "                    numbers.append(1)\n",
    "            else:\n",
    "                numbers.append(1)                       # If the value of i+1 is not a valid index, this is the end of the formula so must only be one atom of this type\n",
    "            \n",
    "            atoms.append(current_atom)                  # Add the current atom-type to the list of atoms\n",
    "            \n",
    "        if formula[i].isdigit() and formula[i-1].isalpha(): # If a character is a digit and the previous character is a letter, this must be the number of a given atom type\n",
    "            current_number = formula[i]                     # Append current digit to current number\n",
    "            if i+1 < len(formula):                          # Check if i+1 is a valid index\n",
    "                if formula[i+1].isdigit():                  # If the value at i+1 is also a digit then there are >= 10 atoms of this type\n",
    "                    current_number += formula[i+1]          # Add the second digit to the current number\n",
    "            numbers.append(int(current_number))             # Convert current number to int and append to list\n",
    "\n",
    "    molecular_weight = 0.   # Initialise value of molecular weight\n",
    "    for i in range(len(atoms)):\n",
    "        molecular_weight += atomic_weights[atoms[i]]*numbers[i] # Iterate through atoms and add molecular weights\n",
    "\n",
    "    return molecular_weight\n",
    "\n",
    "formula = \"C7H8OBr\"\n",
    "molecular_weight = calc_molecular_Weight(formula)\n",
    "\n",
    "print(\"Molecular weight of {} is {:.3f}.\".format(formula, molecular_weight))"
   ]
  },
  {
   "cell_type": "code",
   "execution_count": 9,
   "metadata": {},
   "outputs": [
    {
     "name": "stdout",
     "output_type": "stream",
     "text": [
      "Molecular weight of C7H8OBr is 188.044.\n"
     ]
    }
   ],
   "source": [
    "# Solution 2 - More efficient coding\n",
    "\n",
    "atomic_weights = {\n",
    "    \"H\": 1.008,\n",
    "    \"He\": 4.0026,\n",
    "    \"Li\": 6.94,\n",
    "    \"Be\": 9.0122,\n",
    "    \"B\": 10.81,\n",
    "    \"C\": 12.011,\n",
    "    \"N\": 14.007,\n",
    "    \"O\": 15.999,\n",
    "    \"Br\": 79.904,\n",
    "}\n",
    "\n",
    "def calc_molecular_weight(formula):\n",
    "    current_atom = '' # Store a variable for the atom currently being evaluated\n",
    "    current_count = 0 # Initialise a variable for the number of a given type of atom\n",
    "    molecular_weight = 0 # Intialise a variable for molecular weight count\n",
    "\n",
    "    for char in formula:\n",
    "        if char.isupper():\n",
    "            if current_atom: \n",
    "                molecular_weight += atomic_weights.get(current_atom, 0) * max(current_count, 1) # If there has been a previous atom, we can count the mass\n",
    "\n",
    "            current_atom = char # Uppercase so new atom\n",
    "            current_count = 0 # Reset count to zero\n",
    "\n",
    "        elif char.islower(): # i.e. must be part of current atom\n",
    "            current_atom += char\n",
    "\n",
    "        elif char.isdigit(): # If the character is a digit, it's the count of the current atom\n",
    "            current_count = current_count * 10 + int(char)\n",
    "        \n",
    "    if current_atom: # Add the contribution of the last atom to the molecular weight\n",
    "        molecular_weight += atomic_weights[current_atom] * max(current_count,1)\n",
    "\n",
    "    return molecular_weight\n",
    "\n",
    "formula = \"C7H8OBr\"\n",
    "molecular_weight = calc_molecular_weight(formula)\n",
    "\n",
    "print(\"Molecular weight of {} is {:.3f}.\".format(formula, molecular_weight))\n"
   ]
  }
 ],
 "metadata": {
  "kernelspec": {
   "display_name": "Python 3",
   "language": "python",
   "name": "python3"
  },
  "language_info": {
   "codemirror_mode": {
    "name": "ipython",
    "version": 3
   },
   "file_extension": ".py",
   "mimetype": "text/x-python",
   "name": "python",
   "nbconvert_exporter": "python",
   "pygments_lexer": "ipython3",
   "version": "3.8.18"
  }
 },
 "nbformat": 4,
 "nbformat_minor": 2
}
